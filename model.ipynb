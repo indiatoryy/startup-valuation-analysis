{
  "nbformat": 4,
  "nbformat_minor": 0,
  "metadata": {
    "colab": {
      "provenance": []
    },
    "kernelspec": {
      "name": "python3",
      "display_name": "Python 3"
    },
    "language_info": {
      "name": "python"
    }
  },
  "cells": [
    {
      "cell_type": "markdown",
      "source": [
        "# Startup Success Prediction\n",
        "\n",
        "### Objective\n",
        "The objective of this notebook is to develop a machine learning model to predict the success of startups. Due to the nature of the data, success is defined as a startup being 'acquired'. This prediction model can be used by venture capital firms to evaluate potential investments.\n",
        "\n",
        "### Overview of Steps Steps\n",
        "\n",
        "1. **Data Cleaning and Preprocessing:**\n",
        "   - Convert dates to datetime format.\n",
        "   - Fill missing values.\n",
        "   - Log transform of funding amounts.\n",
        "\n",
        "2. **Feature Engineering:**\n",
        "   - Create a binary target variable `successful` based on the `status` column.\n",
        "\n",
        "3. **Sectoral Clustering:**\n",
        "   - Use Latent Dirichlet Allocation (LDA) for clustering startups into sectors based on `category_code` and `country_code`.\n",
        "\n",
        "4. **Label Encoding:**\n",
        "   - Encode categorical features using LabelEncoder.\n",
        "\n",
        "5. **Neural Network Model:**\n",
        "   - Build and train a neural network to predict startup success.\n",
        "   - Implement early stopping to prevent overfitting.\n",
        "   - Evaluate the model using accuracy and mean absolute error.\n",
        "   - Visualize training and validation accuracy and loss.\n"
      ],
      "metadata": {
        "id": "jLP-Bm8VVjdp"
      }
    },
    {
      "cell_type": "code",
      "execution_count": 1,
      "metadata": {
        "id": "sYd2ZwbIkLlW"
      },
      "outputs": [],
      "source": [
        "import pandas as pd\n",
        "import numpy as np\n",
        "import matplotlib.pyplot as plt\n",
        "\n",
        "from sklearn.model_selection import train_test_split\n",
        "from sklearn.decomposition import LatentDirichletAllocation\n",
        "from sklearn.feature_extraction.text import CountVectorizer\n",
        "from sklearn.metrics import mean_absolute_error\n",
        "from sklearn.preprocessing import LabelEncoder\n",
        "\n",
        "import xgboost as xgb\n",
        "\n",
        "import tensorflow as tf\n",
        "from tensorflow.keras.models import Sequential\n",
        "from tensorflow.keras.layers import Dense, Dropout"
      ]
    },
    {
      "cell_type": "code",
      "source": [
        "from google.colab import drive\n",
        "drive.mount('/content/drive')\n",
        "root_path = '/content/drive/MyDrive/Projects/StartupValuation/'"
      ],
      "metadata": {
        "colab": {
          "base_uri": "https://localhost:8080/"
        },
        "id": "Qf3hnUjomI3A",
        "outputId": "32a83167-3266-4549-f879-676f5084f11b"
      },
      "execution_count": 2,
      "outputs": [
        {
          "output_type": "stream",
          "name": "stdout",
          "text": [
            "Mounted at /content/drive\n"
          ]
        }
      ]
    },
    {
      "cell_type": "markdown",
      "source": [
        "## Data Prep"
      ],
      "metadata": {
        "id": "bLyLrJ8CWAP2"
      }
    },
    {
      "cell_type": "code",
      "source": [
        "startup_df = pd.read_csv(root_path + 'dataset.csv')"
      ],
      "metadata": {
        "id": "gKlu-CThmSOe"
      },
      "execution_count": 52,
      "outputs": []
    },
    {
      "cell_type": "code",
      "source": [
        "print(startup_df.columns)"
      ],
      "metadata": {
        "colab": {
          "base_uri": "https://localhost:8080/"
        },
        "id": "HjKyKFRkndl-",
        "outputId": "79ca2e18-f6f6-46e3-bec9-6c8fe987e48e"
      },
      "execution_count": 48,
      "outputs": [
        {
          "output_type": "stream",
          "name": "stdout",
          "text": [
            "Index(['id', 'category_code', 'status', 'founded_at', 'logo_width',\n",
            "       'logo_height', 'country_code', 'investment_rounds',\n",
            "       'invested_companies', 'funding_rounds', 'funding_total_usd',\n",
            "       'milestones', 'relationships', 'object_id', 'angel', 'crowdfunding',\n",
            "       'other', 'post_ipo', 'private_equity', 'series_a', 'series_b',\n",
            "       'series_c', 'venture', 'acquiring_object_id',\n",
            "       'num_acquisizioni_effettuate', 'acquired_object_id',\n",
            "       'have_been_acquired', 'funded_object_id_x', 'fin_org_financed',\n",
            "       'funded_object_id_y', 'person_financed', 'funded_object_id',\n",
            "       'startup_financed', 'parent_id', 'num_prodotti'],\n",
            "      dtype='object')\n"
          ]
        }
      ]
    },
    {
      "cell_type": "code",
      "source": [
        "# Data cleaning\n",
        "startup_df['founded_at'] = pd.to_datetime(startup_df['founded_at'], errors='coerce')\n",
        "startup_df.fillna(0, inplace=True)\n",
        "\n",
        "# Feature engineering: log transform of funding amounts\n",
        "startup_df['log_funding_total_usd'] = np.log1p(startup_df['funding_total_usd'])"
      ],
      "metadata": {
        "id": "c9XN1QibmmcS"
      },
      "execution_count": 53,
      "outputs": []
    },
    {
      "cell_type": "code",
      "source": [
        "# Define target variable (e.g., successful if 'status' is 'operating' or 'acquired')\n",
        "startup_df['successful'] = startup_df['status'].apply(lambda x: 1 if x in ['acquired'] else 0)\n",
        "\n",
        "# Check the counts of successful vs. not successful startups\n",
        "success_counts = startup_df['successful'].value_counts()\n",
        "\n",
        "print(\"Count of Successful vs. Not Successful Startups:\")\n",
        "print(success_counts)"
      ],
      "metadata": {
        "colab": {
          "base_uri": "https://localhost:8080/"
        },
        "id": "O3xfMOGpRY_b",
        "outputId": "34cee8c2-677a-4a7b-9aa1-bf0d4ab3184f"
      },
      "execution_count": 54,
      "outputs": [
        {
          "output_type": "stream",
          "name": "stdout",
          "text": [
            "Count of Successful vs. Not Successful Startups:\n",
            "successful\n",
            "0    187105\n",
            "1      9393\n",
            "Name: count, dtype: int64\n"
          ]
        }
      ]
    },
    {
      "cell_type": "markdown",
      "source": [
        "## Label Encoding"
      ],
      "metadata": {
        "id": "tM8GY2tpWCl0"
      }
    },
    {
      "cell_type": "code",
      "source": [
        "# List of categorical features to encode\n",
        "categorical_features = ['category_code', 'country_code', 'object_id', 'acquiring_object_id',\n",
        "                        'acquired_object_id', 'funded_object_id_x', 'funded_object_id_y',\n",
        "                        'funded_object_id', 'parent_id']\n",
        "\n",
        "# Apply Label Encoding\n",
        "label_encoders = {}\n",
        "for col in categorical_features:\n",
        "    le = LabelEncoder()\n",
        "    startup_df[col] = le.fit_transform(startup_df[col].astype(str))  # Convert to string to handle missing values as unique labels\n",
        "    label_encoders[col] = le"
      ],
      "metadata": {
        "id": "OPp3HomHCJ0E"
      },
      "execution_count": 55,
      "outputs": []
    },
    {
      "cell_type": "markdown",
      "source": [
        "## Sectoral Clustering using LDA"
      ],
      "metadata": {
        "id": "ywkK27BPWHu2"
      }
    },
    {
      "cell_type": "code",
      "source": [
        "# Use 'category_code' and 'country_code' for clustering\n",
        "text_data = startup_df['category_code'].astype(str) + ' ' + startup_df['country_code'].astype(str)\n",
        "\n",
        "# Vectorize the text data\n",
        "vectorizer = CountVectorizer(max_df=0.95, min_df=2, stop_words='english')\n",
        "text_vectorized = vectorizer.fit_transform(text_data)\n",
        "\n",
        "# Apply LDA\n",
        "lda = LatentDirichletAllocation(n_components=10, random_state=42)  # Adjust n_components based on your needs\n",
        "lda.fit(text_vectorized)\n",
        "\n",
        "# Add cluster labels to the DataFrame\n",
        "startup_df['sector_cluster'] = lda.transform(text_vectorized).argmax(axis=1)"
      ],
      "metadata": {
        "id": "3GcsyY_3ny7u"
      },
      "execution_count": 32,
      "outputs": []
    },
    {
      "cell_type": "code",
      "source": [
        "lda_components = lda.components_\n",
        "\n",
        "# Get the feature names (words) from the CountVectorizer\n",
        "feature_names = vectorizer.get_feature_names_out()\n",
        "\n",
        "# Define a function to print the top words for each topic\n",
        "def print_top_words(model, feature_names, n_top_words):\n",
        "    for topic_idx, topic in enumerate(model.components_):\n",
        "        print(f\"Cluster {topic_idx}:\")\n",
        "        print(\" \".join([feature_names[i] for i in topic.argsort()[:-n_top_words - 1:-1]]))\n",
        "        print()\n",
        "\n",
        "# Print the top words for each topic\n",
        "print_top_words(lda, feature_names, 10)  # Adjust the number of top words as needed"
      ],
      "metadata": {
        "colab": {
          "base_uri": "https://localhost:8080/"
        },
        "id": "rDk7W3YKsOqc",
        "outputId": "180a8416-ba16-44c9-9317-87fac6963fd8"
      },
      "execution_count": 33,
      "outputs": [
        {
          "output_type": "stream",
          "name": "stdout",
          "text": [
            "Cluster 0:\n",
            "31 34 19 148 24 116 22 152 95 83\n",
            "\n",
            "Cluster 1:\n",
            "71 12 35 21 33 40 135 69 94 67\n",
            "\n",
            "Cluster 2:\n",
            "29 163 126 80 173 79 84 82 164 107\n",
            "\n",
            "Cluster 3:\n",
            "38 32 50 77 53 102 169 162 57 86\n",
            "\n",
            "Cluster 4:\n",
            "42 163 17 11 86 51 79 130 150 128\n",
            "\n",
            "Cluster 5:\n",
            "163 38 36 28 22 25 14 106 23 15\n",
            "\n",
            "Cluster 6:\n",
            "23 15 16 43 41 20 78 140 171 160\n",
            "\n",
            "Cluster 7:\n",
            "10 26 54 37 27 115 81 45 156 64\n",
            "\n",
            "Cluster 8:\n",
            "55 39 70 93 36 124 166 28 25 101\n",
            "\n",
            "Cluster 9:\n",
            "13 73 18 36 134 108 30 49 137 146\n",
            "\n"
          ]
        }
      ]
    },
    {
      "cell_type": "markdown",
      "source": [
        "## Model Development and Training"
      ],
      "metadata": {
        "id": "0_n9n2OCWK_d"
      }
    },
    {
      "cell_type": "code",
      "source": [
        "# Split data\n",
        "X = startup_df.drop(columns=['id', 'founded_at', 'status','successful'])\n",
        "y = startup_df['successful']\n",
        "X_train, X_test, y_train, y_test = train_test_split(X, y, test_size=0.2, random_state=42)"
      ],
      "metadata": {
        "id": "uq5d8uIEm8OA"
      },
      "execution_count": 56,
      "outputs": []
    },
    {
      "cell_type": "code",
      "source": [
        "# Define the neural network model\n",
        "def build_model(input_dim):\n",
        "    model = Sequential()\n",
        "    model.add(Dense(64, input_dim=input_dim, activation='relu'))\n",
        "    model.add(Dropout(0.5))\n",
        "    model.add(Dense(32, activation='relu'))\n",
        "    model.add(Dropout(0.5))\n",
        "    model.add(Dense(1, activation='sigmoid'))\n",
        "    model.compile(optimizer='adam', loss='binary_crossentropy', metrics=['accuracy'])\n",
        "    return model"
      ],
      "metadata": {
        "id": "41tVWA3JpHS1"
      },
      "execution_count": 57,
      "outputs": []
    },
    {
      "cell_type": "code",
      "source": [
        "# Build and train the model\n",
        "input_dim = X_train.shape[1]\n",
        "model = build_model(input_dim)\n",
        "\n",
        "# Train the model\n",
        "history = model.fit(X_train, y_train, epochs=20, batch_size=32, validation_split=0.2, verbose=1)"
      ],
      "metadata": {
        "colab": {
          "base_uri": "https://localhost:8080/"
        },
        "id": "bA_z6MdCrmua",
        "outputId": "b46a2997-43f3-42a2-f04c-ecaa00046333"
      },
      "execution_count": 58,
      "outputs": [
        {
          "output_type": "stream",
          "name": "stdout",
          "text": [
            "Epoch 1/20\n",
            "3930/3930 [==============================] - 14s 3ms/step - loss: 24654.7266 - accuracy: 0.9540 - val_loss: 50.6194 - val_accuracy: 0.9855\n",
            "Epoch 2/20\n",
            "3930/3930 [==============================] - 11s 3ms/step - loss: 738.2082 - accuracy: 0.9742 - val_loss: 0.0492 - val_accuracy: 0.9856\n",
            "Epoch 3/20\n",
            "3930/3930 [==============================] - 12s 3ms/step - loss: 154.8174 - accuracy: 0.9783 - val_loss: 0.0453 - val_accuracy: 0.9871\n",
            "Epoch 4/20\n",
            "3930/3930 [==============================] - 12s 3ms/step - loss: 72.4950 - accuracy: 0.9804 - val_loss: 0.0440 - val_accuracy: 0.9878\n",
            "Epoch 5/20\n",
            "3930/3930 [==============================] - 15s 4ms/step - loss: 18.7503 - accuracy: 0.9824 - val_loss: 0.0414 - val_accuracy: 0.9886\n",
            "Epoch 6/20\n",
            "3930/3930 [==============================] - 13s 3ms/step - loss: 2.3142 - accuracy: 0.9842 - val_loss: 0.0408 - val_accuracy: 0.9887\n",
            "Epoch 7/20\n",
            "3930/3930 [==============================] - 13s 3ms/step - loss: 1.1242 - accuracy: 0.9846 - val_loss: 0.0408 - val_accuracy: 0.9886\n",
            "Epoch 8/20\n",
            "3930/3930 [==============================] - 13s 3ms/step - loss: 5.4404 - accuracy: 0.9862 - val_loss: 0.0400 - val_accuracy: 0.9886\n",
            "Epoch 9/20\n",
            "3930/3930 [==============================] - 13s 3ms/step - loss: 0.6100 - accuracy: 0.9868 - val_loss: 0.0401 - val_accuracy: 0.9887\n",
            "Epoch 10/20\n",
            "3930/3930 [==============================] - 13s 3ms/step - loss: 1.9569 - accuracy: 0.9870 - val_loss: 0.0407 - val_accuracy: 0.9887\n",
            "Epoch 11/20\n",
            "3930/3930 [==============================] - 13s 3ms/step - loss: 768.2337 - accuracy: 0.9869 - val_loss: 0.0400 - val_accuracy: 0.9887\n",
            "Epoch 12/20\n",
            "3930/3930 [==============================] - 12s 3ms/step - loss: 7.4142 - accuracy: 0.9872 - val_loss: 0.0407 - val_accuracy: 0.9887\n",
            "Epoch 13/20\n",
            "3930/3930 [==============================] - 13s 3ms/step - loss: 3.2876 - accuracy: 0.9870 - val_loss: 0.0399 - val_accuracy: 0.9887\n",
            "Epoch 14/20\n",
            "3930/3930 [==============================] - 13s 3ms/step - loss: 6.4415 - accuracy: 0.9870 - val_loss: 0.0409 - val_accuracy: 0.9887\n",
            "Epoch 15/20\n",
            "3930/3930 [==============================] - 13s 3ms/step - loss: 4.6151 - accuracy: 0.9875 - val_loss: 0.0401 - val_accuracy: 0.9887\n",
            "Epoch 16/20\n",
            "3930/3930 [==============================] - 11s 3ms/step - loss: 2.9920 - accuracy: 0.9872 - val_loss: 0.0398 - val_accuracy: 0.9887\n",
            "Epoch 17/20\n",
            "3930/3930 [==============================] - 12s 3ms/step - loss: 464.1540 - accuracy: 0.9854 - val_loss: 0.0405 - val_accuracy: 0.9886\n",
            "Epoch 18/20\n",
            "3930/3930 [==============================] - 13s 3ms/step - loss: 6.1706 - accuracy: 0.9840 - val_loss: 0.0407 - val_accuracy: 0.9887\n",
            "Epoch 19/20\n",
            "3930/3930 [==============================] - 12s 3ms/step - loss: 13.4664 - accuracy: 0.9861 - val_loss: 0.0398 - val_accuracy: 0.9887\n",
            "Epoch 20/20\n",
            "3930/3930 [==============================] - 12s 3ms/step - loss: 4.5543 - accuracy: 0.9852 - val_loss: 0.0401 - val_accuracy: 0.9886\n"
          ]
        }
      ]
    },
    {
      "cell_type": "code",
      "source": [
        "# Plot training & validation accuracy\n",
        "plt.figure(figsize=(12, 4))\n",
        "plt.subplot(1, 2, 1)\n",
        "plt.plot(history.history['accuracy'])\n",
        "plt.plot(history.history['val_accuracy'])\n",
        "plt.title('Model accuracy')\n",
        "plt.xlabel('Epoch')\n",
        "plt.ylabel('Accuracy')\n",
        "plt.legend(['Train', 'Validation'], loc='upper left')\n",
        "\n",
        "# Plot training & validation loss\n",
        "plt.subplot(1, 2, 2)\n",
        "plt.plot(history.history['loss'])\n",
        "plt.plot(history.history['val_loss'])\n",
        "plt.title('Model loss')\n",
        "plt.xlabel('Epoch')\n",
        "plt.ylabel('Loss')\n",
        "plt.legend(['Train', 'Validation'], loc='upper left')\n",
        "\n",
        "plt.tight_layout()\n",
        "plt.show()"
      ],
      "metadata": {
        "colab": {
          "base_uri": "https://localhost:8080/",
          "height": 407
        },
        "id": "i037vJ-euEtW",
        "outputId": "1c364be3-50cd-4505-f76b-70a774f7e3df"
      },
      "execution_count": 59,
      "outputs": [
        {
          "output_type": "display_data",
          "data": {
            "text/plain": [
              "<Figure size 1200x400 with 2 Axes>"
            ],
            "image/png": "[encoded data removed]"
          },
          "metadata": {}
        }
      ]
    },
    {
      "cell_type": "code",
      "source": [
        "# Evaluate the model\n",
        "loss, accuracy = model.evaluate(X_test, y_test)\n",
        "print(f'Model Accuracy: {accuracy}')"
      ],
      "metadata": {
        "colab": {
          "base_uri": "https://localhost:8080/"
        },
        "id": "-l3L3bQMrrO9",
        "outputId": "08cac144-933c-48cf-aa6c-7c88fc7e26e6"
      },
      "execution_count": 60,
      "outputs": [
        {
          "output_type": "stream",
          "name": "stdout",
          "text": [
            "1229/1229 [==============================] - 2s 2ms/step - loss: 0.0435 - accuracy: 0.9877\n",
            "Model Accuracy: 0.9876844882965088\n"
          ]
        }
      ]
    },
    {
      "cell_type": "code",
      "source": [
        "# Make predictions\n",
        "y_pred = model.predict(X_test)\n",
        "y_pred_classes = (y_pred > 0.5).astype(\"int32\")"
      ],
      "metadata": {
        "colab": {
          "base_uri": "https://localhost:8080/"
        },
        "id": "sWfke5DQrsvG",
        "outputId": "1d3aa5a5-8086-47bd-ed82-0090676f9b00"
      },
      "execution_count": 61,
      "outputs": [
        {
          "output_type": "stream",
          "name": "stdout",
          "text": [
            "1229/1229 [==============================] - 3s 2ms/step\n"
          ]
        }
      ]
    },
    {
      "cell_type": "code",
      "source": [
        "# Calculate mean absolute error\n",
        "mae = mean_absolute_error(y_test, y_pred_classes)\n",
        "print(f'Mean Absolute Error: {mae}')"
      ],
      "metadata": {
        "colab": {
          "base_uri": "https://localhost:8080/"
        },
        "id": "u_6RZ0z3ruYJ",
        "outputId": "0c24fe40-02d3-4deb-dbbd-307323fcef16"
      },
      "execution_count": 62,
      "outputs": [
        {
          "output_type": "stream",
          "name": "stdout",
          "text": [
            "Mean Absolute Error: 0.012315521628498728\n"
          ]
        }
      ]
    }
  ]
}